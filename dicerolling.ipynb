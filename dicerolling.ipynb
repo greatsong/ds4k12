{
 "cells": [
  {
   "cell_type": "markdown",
   "metadata": {
    "slideshow": {
     "slide_type": "slide"
    }
   },
   "source": [
    "# Teaching Data Science\n",
    "\n",
    "Miles Berry\n",
    "\n",
    "University of Roehampton\n",
    "\n",
    "13 June 2020"
   ]
  },
  {
   "cell_type": "markdown",
   "metadata": {
    "slideshow": {
     "slide_type": "slide"
    }
   },
   "source": [
    "# Find motivating contexts for teaching computer science"
   ]
  },
  {
   "cell_type": "code",
   "execution_count": 1,
   "metadata": {
    "colab": {},
    "colab_type": "code",
    "execution": {
     "iopub.execute_input": "2020-07-06T16:32:21.899Z",
     "iopub.status.busy": "2020-07-06T16:32:21.869Z",
     "iopub.status.idle": "2020-07-06T16:32:22.876Z",
     "shell.execute_reply": "2020-07-06T16:32:22.855Z"
    },
    "id": "ihIWciEmFL1G",
    "rise": {
     "theme": "sky"
    },
    "slideshow": {
     "slide_type": "slide"
    }
   },
   "outputs": [],
   "source": [
    "from random import randint\n",
    "import matplotlib.pyplot as plt\n",
    "from statistics import mean,median,mode,stdev\n"
   ]
  },
  {
   "cell_type": "markdown",
   "metadata": {
    "slideshow": {
     "slide_type": "slide"
    }
   },
   "source": [
    "| |\n",
    "|-|\n",
    "|Foundations|\n",
    "|Applications|\n",
    "|Implications|"
   ]
  },
  {
   "cell_type": "markdown",
   "metadata": {
    "slideshow": {
     "slide_type": "subslide"
    }
   },
   "source": [
    "|            |                      |\n",
    "|------------|----------------------|\n",
    "|Foundations |Computer science      |\n",
    "|Applications|Information technology|\n",
    "|Implications|Digital literacy      |\n"
   ]
  },
  {
   "cell_type": "markdown",
   "metadata": {
    "colab_type": "text",
    "id": "LPaapImb4wV0",
    "slideshow": {
     "slide_type": "subslide"
    }
   },
   "source": [
    "| | |\n",
    "|-|-|\n",
    "|Foundations|Probabilility and statistics|\n",
    "|Applications|Using software, writing code|\n",
    "|Implications|Question everything, trust no one|"
   ]
  },
  {
   "cell_type": "markdown",
   "metadata": {
    "nteract": {
     "transient": {
      "deleting": false
     }
    },
    "slideshow": {
     "slide_type": "slide"
    }
   },
   "source": [
    "## Data science in CSTA standards\n",
    "\n",
    "**5-7 year olds**: Collect and present the same data in various visual formats. Identify and describe patterns in data visualizations, such as charts or graphs, to make\n",
    "predictions.\n",
    "\n",
    "**8-11 year olds**: Organize and present collected data visually to highlight relationships and support a claim. Use data to highlight or propose cause-and-effect relationships, predict outcomes, or communicate an idea.\n",
    "\n",
    "**11-14 year olds**: Collect data using computational tools and transform the data to make it more useful and\n",
    "reliable. Refine computational models based on the data they have generated.\n"
   ]
  },
  {
   "cell_type": "markdown",
   "metadata": {
    "nteract": {
     "transient": {
      "deleting": false
     }
    },
    "slideshow": {
     "slide_type": "subslide"
    }
   },
   "source": [
    "## Data science in CSTA standards\n",
    "\n",
    "**14-16 year olds**: Create interactive data visualizations using software tools to help others better understand\n",
    "real-world phenomena. Create computational models that represent the relationships among different elements of data collected from a phenomenon or process.\n",
    "\n",
    "**16-18 year olds**: Use data analysis tools and techniques to identify patterns in data representing complex systems. Select data collection tools and techniques to generate data sets that support a claim or communicate information. Evaluate the ability of models and simulations to test and support the refinement of hypotheses.\n"
   ]
  },
  {
   "cell_type": "markdown",
   "metadata": {
    "slideshow": {
     "slide_type": "slide"
    }
   },
   "source": [
    "## Introducing probability and statistics: dice rolling"
   ]
  },
  {
   "cell_type": "markdown",
   "metadata": {
    "slideshow": {
     "slide_type": "slide"
    }
   },
   "source": [
    "Let's start by creating a function to roll a dice, and then rolling lots of dice lots of times."
   ]
  },
  {
   "cell_type": "code",
   "execution_count": 2,
   "metadata": {
    "colab": {},
    "colab_type": "code",
    "execution": {
     "iopub.execute_input": "2020-07-06T16:12:28.701Z",
     "iopub.status.busy": "2020-07-06T16:12:28.682Z",
     "iopub.status.idle": "2020-07-06T16:12:28.739Z",
     "shell.execute_reply": "2020-07-06T16:12:28.755Z"
    },
    "id": "7ozChYSyBLap",
    "slideshow": {
     "slide_type": "fragment"
    }
   },
   "outputs": [
    {
     "data": {
      "text/plain": [
       "[6, 12, 5, 6, 8, 8, 8, 12, 6, 5]"
      ]
     },
     "execution_count": 2,
     "metadata": {},
     "output_type": "execute_result"
    }
   ],
   "source": [
    "def roll(dice=1,sides=6):\n",
    "  score = 0\n",
    "  for i in range(dice):\n",
    "    score += randint(1,sides)\n",
    "  return score\n",
    "\n",
    "def rolls(dice=1,sides=6,times=1):\n",
    "  scores = []\n",
    "  for i in range(times):\n",
    "    scores.append(roll(dice,sides))\n",
    "  return scores\n",
    "\n",
    "example = rolls(2,6,50)\n",
    "\n",
    "example[:10]\n"
   ]
  },
  {
   "cell_type": "code",
   "execution_count": 172,
   "metadata": {
    "execution": {
     "iopub.execute_input": "2020-07-06T16:12:32.093Z",
     "iopub.status.busy": "2020-07-06T16:12:32.079Z",
     "iopub.status.idle": "2020-07-06T16:12:32.121Z",
     "shell.execute_reply": "2020-07-06T16:12:32.130Z"
    },
    "slideshow": {
     "slide_type": "slide"
    }
   },
   "outputs": [
    {
     "data": {
      "text/plain": [
       "6.5"
      ]
     },
     "execution_count": 172,
     "metadata": {},
     "output_type": "execute_result"
    }
   ],
   "source": [
    "def mymean(data):\n",
    "    total = 0\n",
    "    count = 0\n",
    "    for i in data:\n",
    "        total += i\n",
    "        count += 1\n",
    "    return total/count\n",
    "\n",
    "\n",
    "mymean(example)"
   ]
  },
  {
   "cell_type": "markdown",
   "metadata": {
    "slideshow": {
     "slide_type": "subslide"
    }
   },
   "source": [
    "Other approaches to calculating the mean:\n",
    "\n",
    "Using higher order functions:\n",
    "\n",
    "```python\n",
    "from functools import reduce\n",
    "\n",
    "def mymean(data):\n",
    "    return((reduce(lambda a, b: a + b, data) / len(data)))\n",
    "\n",
    "```\n",
    "Using sum:\n",
    "```python\n",
    "def mymean(data):\n",
    "    return sum(data)/len(data)\n",
    "```\n",
    "Using the mean function!\n",
    "```python\n",
    "from statistics import mean\n",
    "```\n"
   ]
  },
  {
   "cell_type": "code",
   "execution_count": 4,
   "metadata": {
    "execution": {
     "iopub.execute_input": "2020-07-06T16:12:35.071Z",
     "iopub.status.busy": "2020-07-06T16:12:35.061Z",
     "iopub.status.idle": "2020-07-06T16:12:35.100Z",
     "shell.execute_reply": "2020-07-06T16:12:35.109Z"
    }
   },
   "outputs": [
    {
     "data": {
      "text/plain": [
       "[(2, 1),\n",
       " (3, 1),\n",
       " (4, 3),\n",
       " (5, 9),\n",
       " (6, 13),\n",
       " (7, 9),\n",
       " (8, 7),\n",
       " (9, 1),\n",
       " (10, 1),\n",
       " (11, 3),\n",
       " (12, 2)]"
      ]
     },
     "execution_count": 4,
     "metadata": {},
     "output_type": "execute_result"
    }
   ],
   "source": [
    "def freqtable(data):\n",
    "    freqtable = {}\n",
    "    for i in data:\n",
    "        if i in freqtable.keys():\n",
    "            freqtable[i] += 1\n",
    "        else:\n",
    "            freqtable[i] = 1\n",
    "    return(freqtable)\n",
    "\n",
    "\n",
    "sorted(freqtable(example).items())"
   ]
  },
  {
   "cell_type": "code",
   "execution_count": 5,
   "metadata": {
    "execution": {
     "iopub.execute_input": "2020-07-06T16:12:42.234Z",
     "iopub.status.busy": "2020-07-06T16:12:42.216Z",
     "iopub.status.idle": "2020-07-06T16:12:42.479Z",
     "shell.execute_reply": "2020-07-06T16:12:42.502Z"
    }
   },
   "outputs": [
    {
     "data": {
      "text/plain": [
       "<BarContainer object of 11 artists>"
      ]
     },
     "execution_count": 5,
     "metadata": {},
     "output_type": "execute_result"
    },
    {
     "data": {
      "image/png": "[encoded data removed]",
      "text/plain": [
       "<Figure size 432x288 with 1 Axes>"
      ]
     },
     "metadata": {
      "needs_background": "light"
     },
     "output_type": "display_data"
    }
   ],
   "source": [
    "plt.bar(freqtable(example).keys(),freqtable(example).values())"
   ]
  },
  {
   "cell_type": "code",
   "execution_count": 6,
   "metadata": {
    "execution": {
     "iopub.execute_input": "2020-07-06T16:12:54.645Z",
     "iopub.status.busy": "2020-07-06T16:12:54.629Z",
     "iopub.status.idle": "2020-07-06T16:12:54.667Z",
     "shell.execute_reply": "2020-07-06T16:12:54.677Z"
    }
   },
   "outputs": [
    {
     "data": {
      "text/plain": [
       "6"
      ]
     },
     "execution_count": 6,
     "metadata": {},
     "output_type": "execute_result"
    }
   ],
   "source": [
    "def mymode(data):\n",
    "    mode = 0\n",
    "    max = 0\n",
    "    freqs = freqtable(data)\n",
    "    for i in freqs.keys():\n",
    "        if freqs[i]>max:\n",
    "            max=freqs[i]\n",
    "            mode = i\n",
    "    return mode\n",
    "\n",
    "mymode(example)"
   ]
  },
  {
   "cell_type": "code",
   "execution_count": 7,
   "metadata": {
    "execution": {
     "iopub.execute_input": "2020-07-06T16:12:56.936Z",
     "iopub.status.busy": "2020-07-06T16:12:56.925Z",
     "iopub.status.idle": "2020-07-06T16:12:56.965Z",
     "shell.execute_reply": "2020-07-06T16:12:56.978Z"
    }
   },
   "outputs": [
    {
     "data": {
      "text/plain": [
       "6"
      ]
     },
     "execution_count": 7,
     "metadata": {},
     "output_type": "execute_result"
    }
   ],
   "source": [
    "def quicksort(data):\n",
    "    if len(data)==0:\n",
    "        return data\n",
    "    else:\n",
    "        lower = [x for x in data[1:] if x < data[0]]\n",
    "        upper = [x for x in data[1:] if x >= data[0]]\n",
    "        return quicksort(lower) + [data[0]] + quicksort(upper)\n",
    "\n",
    "def mymedian(data):\n",
    "    l = len(data)\n",
    "    if l % 2 == 1:\n",
    "        return quicksort(data)[l // 2]\n",
    "    else:\n",
    "        return quicksort(data)[(l+1)//2]\n",
    "    \n",
    "mymedian(example)"
   ]
  },
  {
   "cell_type": "code",
   "execution_count": null,
   "metadata": {
    "slideshow": {
     "slide_type": "subslide"
    }
   },
   "outputs": [],
   "source": []
  },
  {
   "cell_type": "code",
   "execution_count": 8,
   "metadata": {
    "colab": {
     "base_uri": "https://localhost:8080/",
     "height": 299
    },
    "colab_type": "code",
    "execution": {
     "iopub.execute_input": "2020-07-06T16:13:01.809Z",
     "iopub.status.busy": "2020-07-06T16:13:01.795Z",
     "iopub.status.idle": "2020-07-06T16:13:02.054Z",
     "shell.execute_reply": "2020-07-06T16:13:02.069Z"
    },
    "id": "YXcEMoO1B3Xr",
    "outputId": "34589b81-da88-416c-c29e-ead1e413c0b0",
    "slideshow": {
     "slide_type": "slide"
    }
   },
   "outputs": [
    {
     "name": "stdout",
     "output_type": "stream",
     "text": [
      "mean = 6.7\n",
      "median =  6.0\n",
      "mode = 6\n",
      "standard deviation = 2.168889492955568\n"
     ]
    },
    {
     "data": {
      "image/png": "[encoded data removed]",
      "text/plain": [
       "<Figure size 432x288 with 1 Axes>"
      ]
     },
     "metadata": {
      "needs_background": "light"
     },
     "output_type": "display_data"
    }
   ],
   "source": [
    "plt.hist(example, bins=range(1,14), color='#0504aa',\n",
    "                            alpha=0.7, rwidth=0.85)\n",
    "\n",
    "print('mean =',mean(example))\n",
    "print('median = ',median(example))\n",
    "print('mode =',mode(example))\n",
    "print('standard deviation =',stdev(example))"
   ]
  },
  {
   "cell_type": "markdown",
   "metadata": {
    "slideshow": {
     "slide_type": "slide"
    }
   },
   "source": [
    "## Working with historical weather data"
   ]
  },
  {
   "cell_type": "markdown",
   "metadata": {
    "slideshow": {
     "slide_type": "slide"
    }
   },
   "source": [
    "For this, we'll import some of Python's libraries rather than creating all this ourselves!"
   ]
  },
  {
   "cell_type": "code",
   "execution_count": 140,
   "metadata": {
    "colab": {},
    "colab_type": "code",
    "execution": {
     "iopub.execute_input": "2020-07-06T21:17:58.659Z",
     "iopub.status.busy": "2020-07-06T21:17:58.642Z",
     "iopub.status.idle": "2020-07-06T21:17:58.685Z",
     "shell.execute_reply": "2020-07-06T21:17:58.699Z"
    },
    "id": "cOOYUkFgB6Hp",
    "slideshow": {
     "slide_type": "-"
    }
   },
   "outputs": [],
   "source": [
    "import pandas as pd\n",
    "import requests\n",
    "import datetime\n",
    "import seaborn as sns\n",
    "sns.set()\n",
    "import scipy.stats\n"
   ]
  },
  {
   "cell_type": "markdown",
   "metadata": {},
   "source": [
    "We'll also download the historical (month by month) weather data for the Heathrow weather station from the [UK Met Office](https://www.metoffice.gov.uk/research/climate/maps-and-data/historic-station-data) website"
   ]
  },
  {
   "cell_type": "code",
   "execution_count": 3,
   "metadata": {
    "execution": {
     "iopub.execute_input": "2020-07-06T16:32:38.085Z",
     "iopub.status.busy": "2020-07-06T16:32:38.063Z",
     "iopub.status.idle": "2020-07-06T16:32:38.212Z",
     "shell.execute_reply": "2020-07-06T16:32:38.233Z"
    },
    "jupyter": {
     "outputs_hidden": false,
     "source_hidden": false
    },
    "nteract": {
     "transient": {
      "deleting": false
     }
    }
   },
   "outputs": [
    {
     "data": {
      "text/plain": [
       "45992"
      ]
     },
     "execution_count": 3,
     "metadata": {},
     "output_type": "execute_result"
    }
   ],
   "source": [
    "url = 'https://www.metoffice.gov.uk/pub/data/weather/uk/climate/stationdata/heathrowdata.txt'\n",
    "raw = requests.get(url, allow_redirects=True)\n",
    "open('data.txt','wb').write(raw.content)"
   ]
  },
  {
   "cell_type": "markdown",
   "metadata": {
    "slideshow": {
     "slide_type": "slide"
    }
   },
   "source": [
    "What follows is unpleasant.\n",
    "\n",
    "Transforming the data into a usable format is non-trivial, requires attention to detail and is specific to the particular use case.\n",
    "\n",
    "In general, do this for pupils, or have them do this in Excel where they can see what they're doing."
   ]
  },
  {
   "cell_type": "code",
   "execution_count": 184,
   "metadata": {
    "execution": {
     "iopub.execute_input": "2020-07-06T20:51:22.792Z",
     "iopub.status.busy": "2020-07-06T20:51:22.770Z",
     "iopub.status.idle": "2020-07-06T20:51:22.829Z",
     "shell.execute_reply": "2020-07-06T20:51:22.872Z"
    },
    "slideshow": {
     "slide_type": "subslide"
    }
   },
   "outputs": [
    {
     "data": {
      "text/html": [
       "<div>\n",
       "<style scoped>\n",
       "    .dataframe tbody tr th:only-of-type {\n",
       "        vertical-align: middle;\n",
       "    }\n",
       "\n",
       "    .dataframe tbody tr th {\n",
       "        vertical-align: top;\n",
       "    }\n",
       "\n",
       "    .dataframe thead th {\n",
       "        text-align: right;\n",
       "    }\n",
       "</style>\n",
       "<table border=\"1\" class=\"dataframe\">\n",
       "  <thead>\n",
       "    <tr style=\"text-align: right;\">\n",
       "      <th></th>\n",
       "      <th>yyyy</th>\n",
       "      <th>mm</th>\n",
       "      <th>tmax</th>\n",
       "      <th>tmin</th>\n",
       "      <th>af</th>\n",
       "      <th>rain</th>\n",
       "      <th>sun</th>\n",
       "    </tr>\n",
       "    <tr>\n",
       "      <th>date</th>\n",
       "      <th></th>\n",
       "      <th></th>\n",
       "      <th></th>\n",
       "      <th></th>\n",
       "      <th></th>\n",
       "      <th></th>\n",
       "      <th></th>\n",
       "    </tr>\n",
       "  </thead>\n",
       "  <tbody>\n",
       "    <tr>\n",
       "      <td>1948-01</td>\n",
       "      <td>1948</td>\n",
       "      <td>1</td>\n",
       "      <td>8.9</td>\n",
       "      <td>3.3</td>\n",
       "      <td>NaN</td>\n",
       "      <td>85.0</td>\n",
       "      <td>NaN</td>\n",
       "    </tr>\n",
       "    <tr>\n",
       "      <td>1948-02</td>\n",
       "      <td>1948</td>\n",
       "      <td>2</td>\n",
       "      <td>7.9</td>\n",
       "      <td>2.2</td>\n",
       "      <td>NaN</td>\n",
       "      <td>26.0</td>\n",
       "      <td>NaN</td>\n",
       "    </tr>\n",
       "    <tr>\n",
       "      <td>1948-03</td>\n",
       "      <td>1948</td>\n",
       "      <td>3</td>\n",
       "      <td>14.2</td>\n",
       "      <td>3.8</td>\n",
       "      <td>NaN</td>\n",
       "      <td>14.0</td>\n",
       "      <td>NaN</td>\n",
       "    </tr>\n",
       "  </tbody>\n",
       "</table>\n",
       "</div>"
      ],
      "text/plain": [
       "         yyyy  mm  tmax  tmin  af  rain  sun\n",
       "date                                        \n",
       "1948-01  1948   1   8.9   3.3 NaN  85.0  NaN\n",
       "1948-02  1948   2   7.9   2.2 NaN  26.0  NaN\n",
       "1948-03  1948   3  14.2   3.8 NaN  14.0  NaN"
      ]
     },
     "execution_count": 184,
     "metadata": {},
     "output_type": "execute_result"
    }
   ],
   "source": [
    "dataset = pd.read_csv(\"data.txt\", skiprows=[0,1,2,3,4,5],\n",
    "                      names=['yyyy', 'mm', 'tmax', 'tmin', 'af', 'rain', 'sun', 'notes'],\n",
    "                      delim_whitespace=True, warn_bad_lines=True, error_bad_lines=False, na_values='---')\n",
    "dataset['sun'] = dataset['sun'].str.replace(r'#', '')\n",
    "dataset = dataset.drop([0])\n",
    "dataset['date'] = dataset.apply(lambda x: datetime.date(int(x['yyyy']), int(x['mm']), 1), axis=1)\n",
    "dataset.index = dataset['date']\n",
    "dataset.index = pd.to_datetime(dataset.index)\n",
    "dataset.index = dataset.index.to_period('M')\n",
    "dataset = dataset.drop(['date'], axis=1)\n",
    "dataset = dataset.drop(['notes'], axis=1)\n",
    "dataset['mm'] = dataset['mm'].astype('int')\n",
    "dataset['tmax'] = dataset['tmax'].astype('float')\n",
    "dataset['tmin'] = dataset['tmin'].astype('float')\n",
    "dataset['af'] = dataset['af'].astype('float', errors='ignore')\n",
    "dataset['rain'] = dataset['rain'].astype('float')\n",
    "dataset['sun'] = dataset['sun'].astype('float', errors='ignore')\n",
    "dataset[:3]"
   ]
  },
  {
   "cell_type": "code",
   "execution_count": 185,
   "metadata": {
    "execution": {
     "iopub.execute_input": "2020-07-06T20:51:30.912Z",
     "iopub.status.busy": "2020-07-06T20:51:30.896Z",
     "iopub.status.idle": "2020-07-06T20:51:30.949Z",
     "shell.execute_reply": "2020-07-06T20:51:30.968Z"
    },
    "slideshow": {
     "slide_type": "slide"
    }
   },
   "outputs": [
    {
     "data": {
      "text/html": [
       "<div>\n",
       "<style scoped>\n",
       "    .dataframe tbody tr th:only-of-type {\n",
       "        vertical-align: middle;\n",
       "    }\n",
       "\n",
       "    .dataframe tbody tr th {\n",
       "        vertical-align: top;\n",
       "    }\n",
       "\n",
       "    .dataframe thead th {\n",
       "        text-align: right;\n",
       "    }\n",
       "</style>\n",
       "<table border=\"1\" class=\"dataframe\">\n",
       "  <thead>\n",
       "    <tr style=\"text-align: right;\">\n",
       "      <th></th>\n",
       "      <th>yyyy</th>\n",
       "      <th>mm</th>\n",
       "      <th>tmax</th>\n",
       "      <th>tmin</th>\n",
       "      <th>af</th>\n",
       "      <th>rain</th>\n",
       "      <th>sun</th>\n",
       "    </tr>\n",
       "    <tr>\n",
       "      <th>date</th>\n",
       "      <th></th>\n",
       "      <th></th>\n",
       "      <th></th>\n",
       "      <th></th>\n",
       "      <th></th>\n",
       "      <th></th>\n",
       "      <th></th>\n",
       "    </tr>\n",
       "  </thead>\n",
       "  <tbody>\n",
       "    <tr>\n",
       "      <td>1956-02</td>\n",
       "      <td>1956</td>\n",
       "      <td>2</td>\n",
       "      <td>2.9</td>\n",
       "      <td>-3.6</td>\n",
       "      <td>22.0</td>\n",
       "      <td>2.3</td>\n",
       "      <td>NaN</td>\n",
       "    </tr>\n",
       "    <tr>\n",
       "      <td>1959-02</td>\n",
       "      <td>1959</td>\n",
       "      <td>2</td>\n",
       "      <td>7.4</td>\n",
       "      <td>1.2</td>\n",
       "      <td>7.0</td>\n",
       "      <td>2.4</td>\n",
       "      <td>54.8</td>\n",
       "    </tr>\n",
       "    <tr>\n",
       "      <td>1978-10</td>\n",
       "      <td>1978</td>\n",
       "      <td>10</td>\n",
       "      <td>17.1</td>\n",
       "      <td>8.4</td>\n",
       "      <td>0.0</td>\n",
       "      <td>1.6</td>\n",
       "      <td>98.4</td>\n",
       "    </tr>\n",
       "    <tr>\n",
       "      <td>1993-02</td>\n",
       "      <td>1993</td>\n",
       "      <td>2</td>\n",
       "      <td>7.2</td>\n",
       "      <td>2.5</td>\n",
       "      <td>2.0</td>\n",
       "      <td>2.4</td>\n",
       "      <td>51.0</td>\n",
       "    </tr>\n",
       "    <tr>\n",
       "      <td>1995-08</td>\n",
       "      <td>1995</td>\n",
       "      <td>8</td>\n",
       "      <td>27.0</td>\n",
       "      <td>15.6</td>\n",
       "      <td>0.0</td>\n",
       "      <td>0.3</td>\n",
       "      <td>295.3</td>\n",
       "    </tr>\n",
       "    <tr>\n",
       "      <td>2011-04</td>\n",
       "      <td>2011</td>\n",
       "      <td>4</td>\n",
       "      <td>19.7</td>\n",
       "      <td>8.6</td>\n",
       "      <td>0.0</td>\n",
       "      <td>2.4</td>\n",
       "      <td>218.0</td>\n",
       "    </tr>\n",
       "    <tr>\n",
       "      <td>2018-06</td>\n",
       "      <td>2018</td>\n",
       "      <td>6</td>\n",
       "      <td>24.2</td>\n",
       "      <td>13.1</td>\n",
       "      <td>0.0</td>\n",
       "      <td>0.4</td>\n",
       "      <td>234.5</td>\n",
       "    </tr>\n",
       "    <tr>\n",
       "      <td>2020-05</td>\n",
       "      <td>2020</td>\n",
       "      <td>5</td>\n",
       "      <td>21.1</td>\n",
       "      <td>9.1</td>\n",
       "      <td>0.0</td>\n",
       "      <td>2.0</td>\n",
       "      <td>308.6</td>\n",
       "    </tr>\n",
       "  </tbody>\n",
       "</table>\n",
       "</div>"
      ],
      "text/plain": [
       "         yyyy  mm  tmax  tmin    af  rain    sun\n",
       "date                                            \n",
       "1956-02  1956   2   2.9  -3.6  22.0   2.3    NaN\n",
       "1959-02  1959   2   7.4   1.2   7.0   2.4   54.8\n",
       "1978-10  1978  10  17.1   8.4   0.0   1.6   98.4\n",
       "1993-02  1993   2   7.2   2.5   2.0   2.4   51.0\n",
       "1995-08  1995   8  27.0  15.6   0.0   0.3  295.3\n",
       "2011-04  2011   4  19.7   8.6   0.0   2.4  218.0\n",
       "2018-06  2018   6  24.2  13.1   0.0   0.4  234.5\n",
       "2020-05  2020   5  21.1   9.1   0.0   2.0  308.6"
      ]
     },
     "execution_count": 185,
     "metadata": {},
     "output_type": "execute_result"
    }
   ],
   "source": [
    "dataset[dataset.rain<=3]"
   ]
  },
  {
   "cell_type": "code",
   "execution_count": 151,
   "metadata": {
    "execution": {
     "iopub.execute_input": "2020-07-06T20:51:39.373Z",
     "iopub.status.busy": "2020-07-06T20:51:39.354Z",
     "iopub.status.idle": "2020-07-06T20:51:39.415Z",
     "shell.execute_reply": "2020-07-06T20:51:39.430Z"
    },
    "slideshow": {
     "slide_type": "slide"
    }
   },
   "outputs": [
    {
     "data": {
      "text/html": [
       "<div>\n",
       "<style scoped>\n",
       "    .dataframe tbody tr th:only-of-type {\n",
       "        vertical-align: middle;\n",
       "    }\n",
       "\n",
       "    .dataframe tbody tr th {\n",
       "        vertical-align: top;\n",
       "    }\n",
       "\n",
       "    .dataframe thead th {\n",
       "        text-align: right;\n",
       "    }\n",
       "</style>\n",
       "<table border=\"1\" class=\"dataframe\">\n",
       "  <thead>\n",
       "    <tr style=\"text-align: right;\">\n",
       "      <th></th>\n",
       "      <th>tmax</th>\n",
       "      <th>tmin</th>\n",
       "      <th>af</th>\n",
       "      <th>rain</th>\n",
       "      <th>sun</th>\n",
       "      <th>notes</th>\n",
       "      <th>season</th>\n",
       "    </tr>\n",
       "    <tr>\n",
       "      <th>date</th>\n",
       "      <th></th>\n",
       "      <th></th>\n",
       "      <th></th>\n",
       "      <th></th>\n",
       "      <th></th>\n",
       "      <th></th>\n",
       "      <th></th>\n",
       "    </tr>\n",
       "  </thead>\n",
       "  <tbody>\n",
       "    <tr>\n",
       "      <td>1981-02</td>\n",
       "      <td>7.1</td>\n",
       "      <td>-0.1</td>\n",
       "      <td>16.0</td>\n",
       "      <td>11.9</td>\n",
       "      <td>71.6</td>\n",
       "      <td>NaN</td>\n",
       "      <td>winter</td>\n",
       "    </tr>\n",
       "    <tr>\n",
       "      <td>1981-12</td>\n",
       "      <td>4.4</td>\n",
       "      <td>-1.5</td>\n",
       "      <td>17.0</td>\n",
       "      <td>85.3</td>\n",
       "      <td>47.0</td>\n",
       "      <td>NaN</td>\n",
       "      <td>winter</td>\n",
       "    </tr>\n",
       "    <tr>\n",
       "      <td>1983-02</td>\n",
       "      <td>5.5</td>\n",
       "      <td>-0.5</td>\n",
       "      <td>19.0</td>\n",
       "      <td>31.0</td>\n",
       "      <td>85.3</td>\n",
       "      <td>NaN</td>\n",
       "      <td>winter</td>\n",
       "    </tr>\n",
       "    <tr>\n",
       "      <td>1985-01</td>\n",
       "      <td>4.1</td>\n",
       "      <td>-1.8</td>\n",
       "      <td>20.0</td>\n",
       "      <td>41.3</td>\n",
       "      <td>46.9</td>\n",
       "      <td>NaN</td>\n",
       "      <td>winter</td>\n",
       "    </tr>\n",
       "    <tr>\n",
       "      <td>1986-02</td>\n",
       "      <td>1.7</td>\n",
       "      <td>-2.7</td>\n",
       "      <td>24.0</td>\n",
       "      <td>14.5</td>\n",
       "      <td>61.9</td>\n",
       "      <td>NaN</td>\n",
       "      <td>winter</td>\n",
       "    </tr>\n",
       "    <tr>\n",
       "      <td>1987-01</td>\n",
       "      <td>3.6</td>\n",
       "      <td>-1.0</td>\n",
       "      <td>18.0</td>\n",
       "      <td>11.1</td>\n",
       "      <td>54.4</td>\n",
       "      <td>NaN</td>\n",
       "      <td>winter</td>\n",
       "    </tr>\n",
       "    <tr>\n",
       "      <td>1991-02</td>\n",
       "      <td>5.4</td>\n",
       "      <td>-1.3</td>\n",
       "      <td>16.0</td>\n",
       "      <td>34.7</td>\n",
       "      <td>48.5</td>\n",
       "      <td>NaN</td>\n",
       "      <td>winter</td>\n",
       "    </tr>\n",
       "    <tr>\n",
       "      <td>1996-02</td>\n",
       "      <td>6.8</td>\n",
       "      <td>0.1</td>\n",
       "      <td>17.0</td>\n",
       "      <td>49.0</td>\n",
       "      <td>100.3</td>\n",
       "      <td>NaN</td>\n",
       "      <td>winter</td>\n",
       "    </tr>\n",
       "    <tr>\n",
       "      <td>2010-01</td>\n",
       "      <td>4.5</td>\n",
       "      <td>-0.3</td>\n",
       "      <td>15.0</td>\n",
       "      <td>51.8</td>\n",
       "      <td>51.3</td>\n",
       "      <td>NaN</td>\n",
       "      <td>winter</td>\n",
       "    </tr>\n",
       "    <tr>\n",
       "      <td>2010-12</td>\n",
       "      <td>3.9</td>\n",
       "      <td>-1.5</td>\n",
       "      <td>21.0</td>\n",
       "      <td>21.4</td>\n",
       "      <td>18.5</td>\n",
       "      <td>NaN</td>\n",
       "      <td>winter</td>\n",
       "    </tr>\n",
       "  </tbody>\n",
       "</table>\n",
       "</div>"
      ],
      "text/plain": [
       "         tmax  tmin    af  rain    sun notes  season\n",
       "date                                                \n",
       "1981-02   7.1  -0.1  16.0  11.9   71.6   NaN  winter\n",
       "1981-12   4.4  -1.5  17.0  85.3   47.0   NaN  winter\n",
       "1983-02   5.5  -0.5  19.0  31.0   85.3   NaN  winter\n",
       "1985-01   4.1  -1.8  20.0  41.3   46.9   NaN  winter\n",
       "1986-02   1.7  -2.7  24.0  14.5   61.9   NaN  winter\n",
       "1987-01   3.6  -1.0  18.0  11.1   54.4   NaN  winter\n",
       "1991-02   5.4  -1.3  16.0  34.7   48.5   NaN  winter\n",
       "1996-02   6.8   0.1  17.0  49.0  100.3   NaN  winter\n",
       "2010-01   4.5  -0.3  15.0  51.8   51.3   NaN  winter\n",
       "2010-12   3.9  -1.5  21.0  21.4   18.5   NaN  winter"
      ]
     },
     "execution_count": 151,
     "metadata": {},
     "output_type": "execute_result"
    }
   ],
   "source": [
    "coldmonths=dataset[(dataset.tmin < 0) | (dataset.af > 15)]\n",
    "\n",
    "coldmonths[-10:]"
   ]
  },
  {
   "cell_type": "code",
   "execution_count": 93,
   "metadata": {
    "execution": {
     "iopub.execute_input": "2020-07-06T20:51:44.907Z",
     "iopub.status.busy": "2020-07-06T20:51:44.887Z",
     "iopub.status.idle": "2020-07-06T20:51:44.939Z",
     "shell.execute_reply": "2020-07-06T20:51:44.957Z"
    },
    "slideshow": {
     "slide_type": "slide"
    }
   },
   "outputs": [
    {
     "data": {
      "text/plain": [
       "yyyy      object\n",
       "mm         int64\n",
       "tmax     float64\n",
       "tmin     float64\n",
       "af       float64\n",
       "rain     float64\n",
       "sun      float64\n",
       "notes     object\n",
       "dtype: object"
      ]
     },
     "execution_count": 93,
     "metadata": {},
     "output_type": "execute_result"
    }
   ],
   "source": [
    "dataset.dtypes"
   ]
  },
  {
   "cell_type": "code",
   "execution_count": 174,
   "metadata": {
    "execution": {
     "iopub.execute_input": "2020-07-06T20:51:51.554Z",
     "iopub.status.busy": "2020-07-06T20:51:51.536Z",
     "iopub.status.idle": "2020-07-06T20:51:51.586Z",
     "shell.execute_reply": "2020-07-06T20:51:51.603Z"
    }
   },
   "outputs": [
    {
     "data": {
      "text/html": [
       "<div>\n",
       "<style scoped>\n",
       "    .dataframe tbody tr th:only-of-type {\n",
       "        vertical-align: middle;\n",
       "    }\n",
       "\n",
       "    .dataframe tbody tr th {\n",
       "        vertical-align: top;\n",
       "    }\n",
       "\n",
       "    .dataframe thead th {\n",
       "        text-align: right;\n",
       "    }\n",
       "</style>\n",
       "<table border=\"1\" class=\"dataframe\">\n",
       "  <thead>\n",
       "    <tr style=\"text-align: right;\">\n",
       "      <th></th>\n",
       "      <th>yyyy</th>\n",
       "      <th>mm</th>\n",
       "      <th>tmax</th>\n",
       "      <th>tmin</th>\n",
       "      <th>af</th>\n",
       "      <th>rain</th>\n",
       "      <th>sun</th>\n",
       "    </tr>\n",
       "    <tr>\n",
       "      <th>date</th>\n",
       "      <th></th>\n",
       "      <th></th>\n",
       "      <th></th>\n",
       "      <th></th>\n",
       "      <th></th>\n",
       "      <th></th>\n",
       "      <th></th>\n",
       "    </tr>\n",
       "  </thead>\n",
       "  <tbody>\n",
       "    <tr>\n",
       "      <td>1948-01</td>\n",
       "      <td>1948</td>\n",
       "      <td>1</td>\n",
       "      <td>8.9</td>\n",
       "      <td>3.3</td>\n",
       "      <td>NaN</td>\n",
       "      <td>85.0</td>\n",
       "      <td>NaN</td>\n",
       "    </tr>\n",
       "    <tr>\n",
       "      <td>1948-02</td>\n",
       "      <td>1948</td>\n",
       "      <td>2</td>\n",
       "      <td>7.9</td>\n",
       "      <td>2.2</td>\n",
       "      <td>NaN</td>\n",
       "      <td>26.0</td>\n",
       "      <td>NaN</td>\n",
       "    </tr>\n",
       "    <tr>\n",
       "      <td>1948-12</td>\n",
       "      <td>1948</td>\n",
       "      <td>12</td>\n",
       "      <td>8.8</td>\n",
       "      <td>3.8</td>\n",
       "      <td>NaN</td>\n",
       "      <td>63.0</td>\n",
       "      <td>NaN</td>\n",
       "    </tr>\n",
       "    <tr>\n",
       "      <td>1949-01</td>\n",
       "      <td>1949</td>\n",
       "      <td>1</td>\n",
       "      <td>8.5</td>\n",
       "      <td>1.8</td>\n",
       "      <td>9.0</td>\n",
       "      <td>23.0</td>\n",
       "      <td>NaN</td>\n",
       "    </tr>\n",
       "    <tr>\n",
       "      <td>1949-02</td>\n",
       "      <td>1949</td>\n",
       "      <td>2</td>\n",
       "      <td>10.4</td>\n",
       "      <td>0.6</td>\n",
       "      <td>11.0</td>\n",
       "      <td>27.0</td>\n",
       "      <td>NaN</td>\n",
       "    </tr>\n",
       "    <tr>\n",
       "      <td>...</td>\n",
       "      <td>...</td>\n",
       "      <td>...</td>\n",
       "      <td>...</td>\n",
       "      <td>...</td>\n",
       "      <td>...</td>\n",
       "      <td>...</td>\n",
       "      <td>...</td>\n",
       "    </tr>\n",
       "    <tr>\n",
       "      <td>2019-01</td>\n",
       "      <td>2019</td>\n",
       "      <td>1</td>\n",
       "      <td>7.6</td>\n",
       "      <td>2.0</td>\n",
       "      <td>9.0</td>\n",
       "      <td>33.2</td>\n",
       "      <td>56.4</td>\n",
       "    </tr>\n",
       "    <tr>\n",
       "      <td>2019-02</td>\n",
       "      <td>2019</td>\n",
       "      <td>2</td>\n",
       "      <td>12.4</td>\n",
       "      <td>3.3</td>\n",
       "      <td>3.0</td>\n",
       "      <td>34.2</td>\n",
       "      <td>120.2</td>\n",
       "    </tr>\n",
       "    <tr>\n",
       "      <td>2019-12</td>\n",
       "      <td>2019</td>\n",
       "      <td>12</td>\n",
       "      <td>10.2</td>\n",
       "      <td>4.0</td>\n",
       "      <td>3.0</td>\n",
       "      <td>89.6</td>\n",
       "      <td>56.2</td>\n",
       "    </tr>\n",
       "    <tr>\n",
       "      <td>2020-01</td>\n",
       "      <td>2020</td>\n",
       "      <td>1</td>\n",
       "      <td>10.1</td>\n",
       "      <td>4.7</td>\n",
       "      <td>4.0</td>\n",
       "      <td>47.6</td>\n",
       "      <td>50.3</td>\n",
       "    </tr>\n",
       "    <tr>\n",
       "      <td>2020-02</td>\n",
       "      <td>2020</td>\n",
       "      <td>2</td>\n",
       "      <td>11.1</td>\n",
       "      <td>4.3</td>\n",
       "      <td>1.0</td>\n",
       "      <td>99.8</td>\n",
       "      <td>62.0</td>\n",
       "    </tr>\n",
       "  </tbody>\n",
       "</table>\n",
       "<p>218 rows × 7 columns</p>\n",
       "</div>"
      ],
      "text/plain": [
       "         yyyy  mm  tmax  tmin    af  rain    sun\n",
       "date                                            \n",
       "1948-01  1948   1   8.9   3.3   NaN  85.0    NaN\n",
       "1948-02  1948   2   7.9   2.2   NaN  26.0    NaN\n",
       "1948-12  1948  12   8.8   3.8   NaN  63.0    NaN\n",
       "1949-01  1949   1   8.5   1.8   9.0  23.0    NaN\n",
       "1949-02  1949   2  10.4   0.6  11.0  27.0    NaN\n",
       "...       ...  ..   ...   ...   ...   ...    ...\n",
       "2019-01  2019   1   7.6   2.0   9.0  33.2   56.4\n",
       "2019-02  2019   2  12.4   3.3   3.0  34.2  120.2\n",
       "2019-12  2019  12  10.2   4.0   3.0  89.6   56.2\n",
       "2020-01  2020   1  10.1   4.7   4.0  47.6   50.3\n",
       "2020-02  2020   2  11.1   4.3   1.0  99.8   62.0\n",
       "\n",
       "[218 rows x 7 columns]"
      ]
     },
     "execution_count": 174,
     "metadata": {},
     "output_type": "execute_result"
    }
   ],
   "source": [
    "winter = dataset.loc[(dataset.index.month==12)|(dataset.index.month==1)|(dataset.index.month==2)]\n",
    "winter"
   ]
  },
  {
   "cell_type": "code",
   "execution_count": 81,
   "metadata": {
    "collapsed": true,
    "execution": {
     "iopub.execute_input": "2020-07-06T20:48:30.678Z",
     "iopub.status.busy": "2020-07-06T20:48:30.658Z",
     "iopub.status.idle": "2020-07-06T20:48:30.716Z",
     "shell.execute_reply": "2020-07-06T20:48:30.734Z"
    },
    "jupyter": {
     "outputs_hidden": false,
     "source_hidden": false
    },
    "nteract": {
     "transient": {
      "deleting": false
     }
    }
   },
   "outputs": [
    {
     "data": {
      "text/html": [
       "<div>\n",
       "<style scoped>\n",
       "    .dataframe tbody tr th:only-of-type {\n",
       "        vertical-align: middle;\n",
       "    }\n",
       "\n",
       "    .dataframe tbody tr th {\n",
       "        vertical-align: top;\n",
       "    }\n",
       "\n",
       "    .dataframe thead th {\n",
       "        text-align: right;\n",
       "    }\n",
       "</style>\n",
       "<table border=\"1\" class=\"dataframe\">\n",
       "  <thead>\n",
       "    <tr style=\"text-align: right;\">\n",
       "      <th></th>\n",
       "      <th>yyyy</th>\n",
       "      <th>mm</th>\n",
       "      <th>tmax</th>\n",
       "      <th>tmin</th>\n",
       "      <th>af</th>\n",
       "      <th>rain</th>\n",
       "      <th>sun</th>\n",
       "      <th>notes</th>\n",
       "    </tr>\n",
       "    <tr>\n",
       "      <th>date</th>\n",
       "      <th></th>\n",
       "      <th></th>\n",
       "      <th></th>\n",
       "      <th></th>\n",
       "      <th></th>\n",
       "      <th></th>\n",
       "      <th></th>\n",
       "      <th></th>\n",
       "    </tr>\n",
       "  </thead>\n",
       "  <tbody>\n",
       "    <tr>\n",
       "      <td>1948-06</td>\n",
       "      <td>1948</td>\n",
       "      <td>6</td>\n",
       "      <td>19.1</td>\n",
       "      <td>10.3</td>\n",
       "      <td>NaN</td>\n",
       "      <td>67.0</td>\n",
       "      <td>NaN</td>\n",
       "      <td>NaN</td>\n",
       "    </tr>\n",
       "    <tr>\n",
       "      <td>1948-07</td>\n",
       "      <td>1948</td>\n",
       "      <td>7</td>\n",
       "      <td>21.7</td>\n",
       "      <td>12.0</td>\n",
       "      <td>NaN</td>\n",
       "      <td>21.0</td>\n",
       "      <td>NaN</td>\n",
       "      <td>NaN</td>\n",
       "    </tr>\n",
       "    <tr>\n",
       "      <td>1948-08</td>\n",
       "      <td>1948</td>\n",
       "      <td>8</td>\n",
       "      <td>20.8</td>\n",
       "      <td>11.7</td>\n",
       "      <td>NaN</td>\n",
       "      <td>67.0</td>\n",
       "      <td>NaN</td>\n",
       "      <td>NaN</td>\n",
       "    </tr>\n",
       "    <tr>\n",
       "      <td>1949-06</td>\n",
       "      <td>1949</td>\n",
       "      <td>6</td>\n",
       "      <td>22.0</td>\n",
       "      <td>10.5</td>\n",
       "      <td>0.0</td>\n",
       "      <td>9.0</td>\n",
       "      <td>NaN</td>\n",
       "      <td>NaN</td>\n",
       "    </tr>\n",
       "    <tr>\n",
       "      <td>1949-07</td>\n",
       "      <td>1949</td>\n",
       "      <td>7</td>\n",
       "      <td>25.1</td>\n",
       "      <td>12.9</td>\n",
       "      <td>0.0</td>\n",
       "      <td>46.5</td>\n",
       "      <td>NaN</td>\n",
       "      <td>NaN</td>\n",
       "    </tr>\n",
       "    <tr>\n",
       "      <td>...</td>\n",
       "      <td>...</td>\n",
       "      <td>...</td>\n",
       "      <td>...</td>\n",
       "      <td>...</td>\n",
       "      <td>...</td>\n",
       "      <td>...</td>\n",
       "      <td>...</td>\n",
       "      <td>...</td>\n",
       "    </tr>\n",
       "    <tr>\n",
       "      <td>2018-08</td>\n",
       "      <td>2018</td>\n",
       "      <td>8</td>\n",
       "      <td>24.5</td>\n",
       "      <td>14.5</td>\n",
       "      <td>0.0</td>\n",
       "      <td>48.2</td>\n",
       "      <td>182.1</td>\n",
       "      <td>NaN</td>\n",
       "    </tr>\n",
       "    <tr>\n",
       "      <td>2019-06</td>\n",
       "      <td>2019</td>\n",
       "      <td>6</td>\n",
       "      <td>21.8</td>\n",
       "      <td>11.9</td>\n",
       "      <td>0.0</td>\n",
       "      <td>81.8</td>\n",
       "      <td>170.1</td>\n",
       "      <td>Provisional</td>\n",
       "    </tr>\n",
       "    <tr>\n",
       "      <td>2019-07</td>\n",
       "      <td>2019</td>\n",
       "      <td>7</td>\n",
       "      <td>25.5</td>\n",
       "      <td>14.9</td>\n",
       "      <td>0.0</td>\n",
       "      <td>50.8</td>\n",
       "      <td>194.5</td>\n",
       "      <td>Provisional</td>\n",
       "    </tr>\n",
       "    <tr>\n",
       "      <td>2019-08</td>\n",
       "      <td>2019</td>\n",
       "      <td>8</td>\n",
       "      <td>25.2</td>\n",
       "      <td>14.1</td>\n",
       "      <td>0.0</td>\n",
       "      <td>33.6</td>\n",
       "      <td>201.2</td>\n",
       "      <td>Provisional</td>\n",
       "    </tr>\n",
       "    <tr>\n",
       "      <td>2020-06</td>\n",
       "      <td>2020</td>\n",
       "      <td>6</td>\n",
       "      <td>22.5</td>\n",
       "      <td>12.6</td>\n",
       "      <td>0.0</td>\n",
       "      <td>54.0</td>\n",
       "      <td>174.9</td>\n",
       "      <td>Provisional</td>\n",
       "    </tr>\n",
       "  </tbody>\n",
       "</table>\n",
       "<p>217 rows × 8 columns</p>\n",
       "</div>"
      ],
      "text/plain": [
       "         yyyy mm  tmax  tmin   af  rain    sun        notes\n",
       "date                                                       \n",
       "1948-06  1948  6  19.1  10.3  NaN  67.0    NaN          NaN\n",
       "1948-07  1948  7  21.7  12.0  NaN  21.0    NaN          NaN\n",
       "1948-08  1948  8  20.8  11.7  NaN  67.0    NaN          NaN\n",
       "1949-06  1949  6  22.0  10.5  0.0   9.0    NaN          NaN\n",
       "1949-07  1949  7  25.1  12.9  0.0  46.5    NaN          NaN\n",
       "...       ... ..   ...   ...  ...   ...    ...          ...\n",
       "2018-08  2018  8  24.5  14.5  0.0  48.2  182.1          NaN\n",
       "2019-06  2019  6  21.8  11.9  0.0  81.8  170.1  Provisional\n",
       "2019-07  2019  7  25.5  14.9  0.0  50.8  194.5  Provisional\n",
       "2019-08  2019  8  25.2  14.1  0.0  33.6  201.2  Provisional\n",
       "2020-06  2020  6  22.5  12.6  0.0  54.0  174.9  Provisional\n",
       "\n",
       "[217 rows x 8 columns]"
      ]
     },
     "execution_count": 81,
     "metadata": {},
     "output_type": "execute_result"
    }
   ],
   "source": [
    "summer = dataset.loc[(dataset.index.month==6)|(dataset.index.month==7)|(dataset.index.month==8)]\n",
    "summer"
   ]
  },
  {
   "cell_type": "code",
   "execution_count": 18,
   "metadata": {
    "collapsed": true,
    "execution": {
     "iopub.execute_input": "2020-07-06T17:54:43.787Z",
     "iopub.status.busy": "2020-07-06T17:54:43.776Z",
     "iopub.status.idle": "2020-07-06T17:54:43.811Z",
     "shell.execute_reply": "2020-07-06T17:54:43.822Z"
    },
    "jupyter": {
     "outputs_hidden": false,
     "source_hidden": false
    },
    "nteract": {
     "transient": {
      "deleting": false
     }
    }
   },
   "outputs": [
    {
     "data": {
      "text/plain": [
       "22.139631336405532"
      ]
     },
     "execution_count": 18,
     "metadata": {},
     "output_type": "execute_result"
    }
   ],
   "source": [
    "summer.tmax.mean()"
   ]
  },
  {
   "cell_type": "code",
   "execution_count": 95,
   "metadata": {
    "collapsed": true,
    "execution": {
     "iopub.execute_input": "2020-07-06T20:51:58.487Z",
     "iopub.status.busy": "2020-07-06T20:51:58.472Z",
     "iopub.status.idle": "2020-07-06T20:51:58.524Z",
     "shell.execute_reply": "2020-07-06T20:51:58.537Z"
    },
    "jupyter": {
     "outputs_hidden": false,
     "source_hidden": false
    },
    "nteract": {
     "transient": {
      "deleting": false
     }
    }
   },
   "outputs": [
    {
     "data": {
      "text/plain": [
       "8.03394495412844"
      ]
     },
     "execution_count": 95,
     "metadata": {},
     "output_type": "execute_result"
    }
   ],
   "source": [
    "winter.tmax.mean()"
   ]
  },
  {
   "cell_type": "code",
   "execution_count": 21,
   "metadata": {
    "collapsed": true,
    "execution": {
     "iopub.execute_input": "2020-07-06T17:56:49.007Z",
     "iopub.status.busy": "2020-07-06T17:56:48.991Z",
     "iopub.status.idle": "2020-07-06T17:56:49.054Z",
     "shell.execute_reply": "2020-07-06T17:56:49.068Z"
    },
    "jupyter": {
     "outputs_hidden": false,
     "source_hidden": false
    },
    "nteract": {
     "transient": {
      "deleting": false
     }
    }
   },
   "outputs": [
    {
     "data": {
      "text/html": [
       "<div>\n",
       "<style scoped>\n",
       "    .dataframe tbody tr th:only-of-type {\n",
       "        vertical-align: middle;\n",
       "    }\n",
       "\n",
       "    .dataframe tbody tr th {\n",
       "        vertical-align: top;\n",
       "    }\n",
       "\n",
       "    .dataframe thead th {\n",
       "        text-align: right;\n",
       "    }\n",
       "</style>\n",
       "<table border=\"1\" class=\"dataframe\">\n",
       "  <thead>\n",
       "    <tr style=\"text-align: right;\">\n",
       "      <th></th>\n",
       "      <th>tmax</th>\n",
       "      <th>tmin</th>\n",
       "      <th>af</th>\n",
       "      <th>rain</th>\n",
       "      <th>sun</th>\n",
       "    </tr>\n",
       "  </thead>\n",
       "  <tbody>\n",
       "    <tr>\n",
       "      <td>count</td>\n",
       "      <td>218.000000</td>\n",
       "      <td>218.000000</td>\n",
       "      <td>215.000000</td>\n",
       "      <td>218.000000</td>\n",
       "      <td>191.000000</td>\n",
       "    </tr>\n",
       "    <tr>\n",
       "      <td>mean</td>\n",
       "      <td>8.033945</td>\n",
       "      <td>2.122936</td>\n",
       "      <td>8.311628</td>\n",
       "      <td>50.164220</td>\n",
       "      <td>58.410471</td>\n",
       "    </tr>\n",
       "    <tr>\n",
       "      <td>std</td>\n",
       "      <td>1.939510</td>\n",
       "      <td>1.821638</td>\n",
       "      <td>5.433593</td>\n",
       "      <td>27.514342</td>\n",
       "      <td>19.655092</td>\n",
       "    </tr>\n",
       "    <tr>\n",
       "      <td>min</td>\n",
       "      <td>0.800000</td>\n",
       "      <td>-4.600000</td>\n",
       "      <td>0.000000</td>\n",
       "      <td>2.300000</td>\n",
       "      <td>18.500000</td>\n",
       "    </tr>\n",
       "    <tr>\n",
       "      <td>25%</td>\n",
       "      <td>6.925000</td>\n",
       "      <td>1.000000</td>\n",
       "      <td>5.000000</td>\n",
       "      <td>29.825000</td>\n",
       "      <td>45.500000</td>\n",
       "    </tr>\n",
       "    <tr>\n",
       "      <td>50%</td>\n",
       "      <td>8.150000</td>\n",
       "      <td>2.100000</td>\n",
       "      <td>7.000000</td>\n",
       "      <td>47.750000</td>\n",
       "      <td>56.600000</td>\n",
       "    </tr>\n",
       "    <tr>\n",
       "      <td>75%</td>\n",
       "      <td>9.400000</td>\n",
       "      <td>3.400000</td>\n",
       "      <td>11.500000</td>\n",
       "      <td>69.450000</td>\n",
       "      <td>67.150000</td>\n",
       "    </tr>\n",
       "    <tr>\n",
       "      <td>max</td>\n",
       "      <td>13.700000</td>\n",
       "      <td>8.900000</td>\n",
       "      <td>28.000000</td>\n",
       "      <td>162.400000</td>\n",
       "      <td>130.000000</td>\n",
       "    </tr>\n",
       "  </tbody>\n",
       "</table>\n",
       "</div>"
      ],
      "text/plain": [
       "             tmax        tmin          af        rain         sun\n",
       "count  218.000000  218.000000  215.000000  218.000000  191.000000\n",
       "mean     8.033945    2.122936    8.311628   50.164220   58.410471\n",
       "std      1.939510    1.821638    5.433593   27.514342   19.655092\n",
       "min      0.800000   -4.600000    0.000000    2.300000   18.500000\n",
       "25%      6.925000    1.000000    5.000000   29.825000   45.500000\n",
       "50%      8.150000    2.100000    7.000000   47.750000   56.600000\n",
       "75%      9.400000    3.400000   11.500000   69.450000   67.150000\n",
       "max     13.700000    8.900000   28.000000  162.400000  130.000000"
      ]
     },
     "execution_count": 21,
     "metadata": {},
     "output_type": "execute_result"
    }
   ],
   "source": [
    "winter.describe()"
   ]
  },
  {
   "cell_type": "code",
   "execution_count": 22,
   "metadata": {
    "collapsed": true,
    "execution": {
     "iopub.execute_input": "2020-07-06T17:57:16.860Z",
     "iopub.status.busy": "2020-07-06T17:57:16.848Z",
     "iopub.status.idle": "2020-07-06T17:57:16.887Z",
     "shell.execute_reply": "2020-07-06T17:57:16.898Z"
    },
    "jupyter": {
     "outputs_hidden": false,
     "source_hidden": false
    },
    "nteract": {
     "transient": {
      "deleting": false
     }
    }
   },
   "outputs": [
    {
     "data": {
      "text/html": [
       "<div>\n",
       "<style scoped>\n",
       "    .dataframe tbody tr th:only-of-type {\n",
       "        vertical-align: middle;\n",
       "    }\n",
       "\n",
       "    .dataframe tbody tr th {\n",
       "        vertical-align: top;\n",
       "    }\n",
       "\n",
       "    .dataframe thead th {\n",
       "        text-align: right;\n",
       "    }\n",
       "</style>\n",
       "<table border=\"1\" class=\"dataframe\">\n",
       "  <thead>\n",
       "    <tr style=\"text-align: right;\">\n",
       "      <th></th>\n",
       "      <th>tmax</th>\n",
       "      <th>tmin</th>\n",
       "      <th>af</th>\n",
       "      <th>rain</th>\n",
       "      <th>sun</th>\n",
       "    </tr>\n",
       "  </thead>\n",
       "  <tbody>\n",
       "    <tr>\n",
       "      <td>count</td>\n",
       "      <td>217.000000</td>\n",
       "      <td>217.000000</td>\n",
       "      <td>214.0</td>\n",
       "      <td>217.000000</td>\n",
       "      <td>190.000000</td>\n",
       "    </tr>\n",
       "    <tr>\n",
       "      <td>mean</td>\n",
       "      <td>22.139631</td>\n",
       "      <td>12.688479</td>\n",
       "      <td>0.0</td>\n",
       "      <td>50.292627</td>\n",
       "      <td>195.938421</td>\n",
       "    </tr>\n",
       "    <tr>\n",
       "      <td>std</td>\n",
       "      <td>2.063909</td>\n",
       "      <td>1.443698</td>\n",
       "      <td>0.0</td>\n",
       "      <td>29.331550</td>\n",
       "      <td>43.170640</td>\n",
       "    </tr>\n",
       "    <tr>\n",
       "      <td>min</td>\n",
       "      <td>17.400000</td>\n",
       "      <td>9.000000</td>\n",
       "      <td>0.0</td>\n",
       "      <td>0.300000</td>\n",
       "      <td>101.700000</td>\n",
       "    </tr>\n",
       "    <tr>\n",
       "      <td>25%</td>\n",
       "      <td>20.700000</td>\n",
       "      <td>11.700000</td>\n",
       "      <td>0.0</td>\n",
       "      <td>26.900000</td>\n",
       "      <td>164.025000</td>\n",
       "    </tr>\n",
       "    <tr>\n",
       "      <td>50%</td>\n",
       "      <td>21.800000</td>\n",
       "      <td>12.700000</td>\n",
       "      <td>0.0</td>\n",
       "      <td>46.500000</td>\n",
       "      <td>190.150000</td>\n",
       "    </tr>\n",
       "    <tr>\n",
       "      <td>75%</td>\n",
       "      <td>23.500000</td>\n",
       "      <td>13.600000</td>\n",
       "      <td>0.0</td>\n",
       "      <td>68.800000</td>\n",
       "      <td>225.950000</td>\n",
       "    </tr>\n",
       "    <tr>\n",
       "      <td>max</td>\n",
       "      <td>28.300000</td>\n",
       "      <td>16.700000</td>\n",
       "      <td>0.0</td>\n",
       "      <td>150.300000</td>\n",
       "      <td>295.300000</td>\n",
       "    </tr>\n",
       "  </tbody>\n",
       "</table>\n",
       "</div>"
      ],
      "text/plain": [
       "             tmax        tmin     af        rain         sun\n",
       "count  217.000000  217.000000  214.0  217.000000  190.000000\n",
       "mean    22.139631   12.688479    0.0   50.292627  195.938421\n",
       "std      2.063909    1.443698    0.0   29.331550   43.170640\n",
       "min     17.400000    9.000000    0.0    0.300000  101.700000\n",
       "25%     20.700000   11.700000    0.0   26.900000  164.025000\n",
       "50%     21.800000   12.700000    0.0   46.500000  190.150000\n",
       "75%     23.500000   13.600000    0.0   68.800000  225.950000\n",
       "max     28.300000   16.700000    0.0  150.300000  295.300000"
      ]
     },
     "execution_count": 22,
     "metadata": {},
     "output_type": "execute_result"
    }
   ],
   "source": [
    "summer.describe()"
   ]
  },
  {
   "cell_type": "code",
   "execution_count": 30,
   "metadata": {
    "collapsed": true,
    "execution": {
     "iopub.execute_input": "2020-07-06T18:02:27.274Z",
     "iopub.status.busy": "2020-07-06T18:02:27.254Z",
     "iopub.status.idle": "2020-07-06T18:02:29.253Z",
     "shell.execute_reply": "2020-07-06T18:02:29.283Z"
    },
    "jupyter": {
     "outputs_hidden": false,
     "source_hidden": false
    },
    "nteract": {
     "transient": {
      "deleting": false
     }
    }
   },
   "outputs": [
    {
     "data": {
      "text/plain": [
       "<matplotlib.axes._subplots.AxesSubplot at 0x12cea4dd8>"
      ]
     },
     "execution_count": 30,
     "metadata": {},
     "output_type": "execute_result"
    },
    {
     "data": {
      "image/png": "[encoded data removed]",
      "text/plain": [
       "<Figure size 432x288 with 1 Axes>"
      ]
     },
     "metadata": {
      "needs_background": "light"
     },
     "output_type": "display_data"
    }
   ],
   "source": [
    "sns.boxplot(winter['rain']summer['rain'])\n"
   ]
  },
  {
   "cell_type": "code",
   "execution_count": 119,
   "metadata": {
    "collapsed": true,
    "execution": {
     "iopub.execute_input": "2020-07-06T21:06:26.713Z",
     "iopub.status.busy": "2020-07-06T21:06:26.698Z",
     "iopub.status.idle": "2020-07-06T21:06:26.751Z",
     "shell.execute_reply": "2020-07-06T21:06:26.765Z"
    },
    "jupyter": {
     "outputs_hidden": false,
     "source_hidden": false
    },
    "nteract": {
     "transient": {
      "deleting": false
     }
    }
   },
   "outputs": [
    {
     "data": {
      "text/html": [
       "<div>\n",
       "<style scoped>\n",
       "    .dataframe tbody tr th:only-of-type {\n",
       "        vertical-align: middle;\n",
       "    }\n",
       "\n",
       "    .dataframe tbody tr th {\n",
       "        vertical-align: top;\n",
       "    }\n",
       "\n",
       "    .dataframe thead th {\n",
       "        text-align: right;\n",
       "    }\n",
       "</style>\n",
       "<table border=\"1\" class=\"dataframe\">\n",
       "  <thead>\n",
       "    <tr style=\"text-align: right;\">\n",
       "      <th></th>\n",
       "      <th>yyyy</th>\n",
       "      <th>mm</th>\n",
       "      <th>tmax</th>\n",
       "      <th>tmin</th>\n",
       "      <th>af</th>\n",
       "      <th>rain</th>\n",
       "      <th>sun</th>\n",
       "      <th>notes</th>\n",
       "      <th>season</th>\n",
       "      <th>decade</th>\n",
       "    </tr>\n",
       "    <tr>\n",
       "      <th>date</th>\n",
       "      <th></th>\n",
       "      <th></th>\n",
       "      <th></th>\n",
       "      <th></th>\n",
       "      <th></th>\n",
       "      <th></th>\n",
       "      <th></th>\n",
       "      <th></th>\n",
       "      <th></th>\n",
       "      <th></th>\n",
       "    </tr>\n",
       "  </thead>\n",
       "  <tbody>\n",
       "    <tr>\n",
       "      <td>1948-01</td>\n",
       "      <td>1948</td>\n",
       "      <td>1</td>\n",
       "      <td>8.9</td>\n",
       "      <td>3.3</td>\n",
       "      <td>NaN</td>\n",
       "      <td>85.0</td>\n",
       "      <td>NaN</td>\n",
       "      <td>NaN</td>\n",
       "      <td>winter</td>\n",
       "      <td>1940s</td>\n",
       "    </tr>\n",
       "    <tr>\n",
       "      <td>1948-02</td>\n",
       "      <td>1948</td>\n",
       "      <td>2</td>\n",
       "      <td>7.9</td>\n",
       "      <td>2.2</td>\n",
       "      <td>NaN</td>\n",
       "      <td>26.0</td>\n",
       "      <td>NaN</td>\n",
       "      <td>NaN</td>\n",
       "      <td>winter</td>\n",
       "      <td>1940s</td>\n",
       "    </tr>\n",
       "    <tr>\n",
       "      <td>1948-03</td>\n",
       "      <td>1948</td>\n",
       "      <td>3</td>\n",
       "      <td>14.2</td>\n",
       "      <td>3.8</td>\n",
       "      <td>NaN</td>\n",
       "      <td>14.0</td>\n",
       "      <td>NaN</td>\n",
       "      <td>NaN</td>\n",
       "      <td>spring</td>\n",
       "      <td>1940s</td>\n",
       "    </tr>\n",
       "    <tr>\n",
       "      <td>1948-04</td>\n",
       "      <td>1948</td>\n",
       "      <td>4</td>\n",
       "      <td>15.4</td>\n",
       "      <td>5.1</td>\n",
       "      <td>NaN</td>\n",
       "      <td>35.0</td>\n",
       "      <td>NaN</td>\n",
       "      <td>NaN</td>\n",
       "      <td>spring</td>\n",
       "      <td>1940s</td>\n",
       "    </tr>\n",
       "    <tr>\n",
       "      <td>1948-05</td>\n",
       "      <td>1948</td>\n",
       "      <td>5</td>\n",
       "      <td>18.1</td>\n",
       "      <td>6.9</td>\n",
       "      <td>NaN</td>\n",
       "      <td>57.0</td>\n",
       "      <td>NaN</td>\n",
       "      <td>NaN</td>\n",
       "      <td>spring</td>\n",
       "      <td>1940s</td>\n",
       "    </tr>\n",
       "    <tr>\n",
       "      <td>...</td>\n",
       "      <td>...</td>\n",
       "      <td>...</td>\n",
       "      <td>...</td>\n",
       "      <td>...</td>\n",
       "      <td>...</td>\n",
       "      <td>...</td>\n",
       "      <td>...</td>\n",
       "      <td>...</td>\n",
       "      <td>...</td>\n",
       "      <td>...</td>\n",
       "    </tr>\n",
       "    <tr>\n",
       "      <td>2020-02</td>\n",
       "      <td>2020</td>\n",
       "      <td>2</td>\n",
       "      <td>11.1</td>\n",
       "      <td>4.3</td>\n",
       "      <td>1.0</td>\n",
       "      <td>99.8</td>\n",
       "      <td>62.0</td>\n",
       "      <td>Provisional</td>\n",
       "      <td>winter</td>\n",
       "      <td>2020s</td>\n",
       "    </tr>\n",
       "    <tr>\n",
       "      <td>2020-03</td>\n",
       "      <td>2020</td>\n",
       "      <td>3</td>\n",
       "      <td>12.0</td>\n",
       "      <td>3.9</td>\n",
       "      <td>1.0</td>\n",
       "      <td>42.8</td>\n",
       "      <td>148.0</td>\n",
       "      <td>Provisional</td>\n",
       "      <td>spring</td>\n",
       "      <td>2020s</td>\n",
       "    </tr>\n",
       "    <tr>\n",
       "      <td>2020-04</td>\n",
       "      <td>2020</td>\n",
       "      <td>4</td>\n",
       "      <td>18.2</td>\n",
       "      <td>6.5</td>\n",
       "      <td>1.0</td>\n",
       "      <td>38.2</td>\n",
       "      <td>235.4</td>\n",
       "      <td>Provisional</td>\n",
       "      <td>spring</td>\n",
       "      <td>2020s</td>\n",
       "    </tr>\n",
       "    <tr>\n",
       "      <td>2020-05</td>\n",
       "      <td>2020</td>\n",
       "      <td>5</td>\n",
       "      <td>21.1</td>\n",
       "      <td>9.1</td>\n",
       "      <td>0.0</td>\n",
       "      <td>2.0</td>\n",
       "      <td>308.6</td>\n",
       "      <td>Provisional</td>\n",
       "      <td>spring</td>\n",
       "      <td>2020s</td>\n",
       "    </tr>\n",
       "    <tr>\n",
       "      <td>2020-06</td>\n",
       "      <td>2020</td>\n",
       "      <td>6</td>\n",
       "      <td>22.5</td>\n",
       "      <td>12.6</td>\n",
       "      <td>0.0</td>\n",
       "      <td>54.0</td>\n",
       "      <td>174.9</td>\n",
       "      <td>Provisional</td>\n",
       "      <td>summer</td>\n",
       "      <td>2020s</td>\n",
       "    </tr>\n",
       "  </tbody>\n",
       "</table>\n",
       "<p>870 rows × 10 columns</p>\n",
       "</div>"
      ],
      "text/plain": [
       "         yyyy  mm  tmax  tmin   af  rain    sun        notes  season decade\n",
       "date                                                                       \n",
       "1948-01  1948   1   8.9   3.3  NaN  85.0    NaN          NaN  winter  1940s\n",
       "1948-02  1948   2   7.9   2.2  NaN  26.0    NaN          NaN  winter  1940s\n",
       "1948-03  1948   3  14.2   3.8  NaN  14.0    NaN          NaN  spring  1940s\n",
       "1948-04  1948   4  15.4   5.1  NaN  35.0    NaN          NaN  spring  1940s\n",
       "1948-05  1948   5  18.1   6.9  NaN  57.0    NaN          NaN  spring  1940s\n",
       "...       ...  ..   ...   ...  ...   ...    ...          ...     ...    ...\n",
       "2020-02  2020   2  11.1   4.3  1.0  99.8   62.0  Provisional  winter  2020s\n",
       "2020-03  2020   3  12.0   3.9  1.0  42.8  148.0  Provisional  spring  2020s\n",
       "2020-04  2020   4  18.2   6.5  1.0  38.2  235.4  Provisional  spring  2020s\n",
       "2020-05  2020   5  21.1   9.1  0.0   2.0  308.6  Provisional  spring  2020s\n",
       "2020-06  2020   6  22.5  12.6  0.0  54.0  174.9  Provisional  summer  2020s\n",
       "\n",
       "[870 rows x 10 columns]"
      ]
     },
     "execution_count": 119,
     "metadata": {},
     "output_type": "execute_result"
    }
   ],
   "source": [
    "seasons = {1:'winter',2:'winter',3:'spring',4:'spring',5:'spring',6:'summer',7:'summer',8:'summer',9:'autumn',10:'autumn',11:'autumn',12:'winter'}\n",
    "dataset['season'] = ((dataset.index.month).map(seasons))\n",
    "dataset['decade']= dataset['yyyy'].str[:3]+'0s'\n",
    "dataset"
   ]
  },
  {
   "cell_type": "code",
   "execution_count": 142,
   "metadata": {
    "collapsed": true,
    "execution": {
     "iopub.execute_input": "2020-07-06T21:20:02.245Z",
     "iopub.status.busy": "2020-07-06T21:20:02.229Z",
     "iopub.status.idle": "2020-07-06T21:20:02.832Z",
     "shell.execute_reply": "2020-07-06T21:20:02.868Z"
    },
    "jupyter": {
     "outputs_hidden": false,
     "source_hidden": false
    },
    "nteract": {
     "transient": {
      "deleting": false
     }
    }
   },
   "outputs": [
    {
     "data": {
      "text/plain": [
       "<matplotlib.axes._subplots.AxesSubplot at 0x13def99e8>"
      ]
     },
     "execution_count": 142,
     "metadata": {},
     "output_type": "execute_result"
    },
    {
     "data": {
      "image/png": "[encoded data removed]",
      "text/plain": [
       "<Figure size 432x288 with 1 Axes>"
      ]
     },
     "metadata": {},
     "output_type": "display_data"
    }
   ],
   "source": [
    "sns.boxplot(dataset.tmax,dataset.decade)"
   ]
  },
  {
   "cell_type": "code",
   "execution_count": null,
   "metadata": {
    "collapsed": true,
    "execution": {
     "iopub.execute_input": "2020-07-06T18:23:11.094Z",
     "iopub.status.busy": "2020-07-06T18:23:11.077Z",
     "iopub.status.idle": "2020-07-06T18:23:11.128Z",
     "shell.execute_reply": "2020-07-06T18:23:11.145Z"
    },
    "jupyter": {
     "outputs_hidden": false,
     "source_hidden": false
    },
    "nteract": {
     "transient": {
      "deleting": false
     }
    }
   },
   "outputs": [],
   "source": [
    "dataset[season=='spring'].tmax.mean()\n"
   ]
  },
  {
   "cell_type": "code",
   "execution_count": 139,
   "metadata": {
    "collapsed": true,
    "execution": {
     "iopub.execute_input": "2020-07-06T21:16:00.825Z",
     "iopub.status.busy": "2020-07-06T21:16:00.809Z",
     "iopub.status.idle": "2020-07-06T21:16:03.580Z",
     "shell.execute_reply": "2020-07-06T21:16:03.604Z"
    },
    "jupyter": {
     "outputs_hidden": false,
     "source_hidden": false
    },
    "nteract": {
     "transient": {
      "deleting": false
     }
    }
   },
   "outputs": [
    {
     "data": {
      "text/plain": [
       "<matplotlib.axes._subplots.AxesSubplot at 0x13d94edd8>"
      ]
     },
     "execution_count": 139,
     "metadata": {},
     "output_type": "execute_result"
    },
    {
     "data": {
      "image/png": "[encoded data removed]",
      "text/plain": [
       "<Figure size 432x288 with 1 Axes>"
      ]
     },
     "metadata": {
      "needs_background": "light"
     },
     "output_type": "display_data"
    }
   ],
   "source": [
    "decadetemp = dataset.groupby(['yyyy'],sort=False).tmax.mean()\n",
    "decadetemp\n",
    "sns.lineplot(decadetemp.index,decadetemp)"
   ]
  },
  {
   "cell_type": "code",
   "execution_count": 124,
   "metadata": {
    "collapsed": true,
    "execution": {
     "iopub.execute_input": "2020-07-06T21:09:18.991Z",
     "iopub.status.busy": "2020-07-06T21:09:18.973Z",
     "iopub.status.idle": "2020-07-06T21:09:19.035Z",
     "shell.execute_reply": "2020-07-06T21:09:19.052Z"
    },
    "jupyter": {
     "outputs_hidden": false,
     "source_hidden": false
    },
    "nteract": {
     "transient": {
      "deleting": false
     }
    }
   },
   "outputs": [
    {
     "data": {
      "text/plain": [
       "Ttest_indResult(statistic=-0.04709142104732515, pvalue=0.9624620762002365)"
      ]
     },
     "execution_count": 124,
     "metadata": {},
     "output_type": "execute_result"
    }
   ],
   "source": [
    "scipy.stats.ttest_ind(dataset[dataset['season']=='winter'].rain,dataset[dataset['season']=='summer'].rain)"
   ]
  },
  {
   "cell_type": "code",
   "execution_count": 72,
   "metadata": {
    "collapsed": true,
    "execution": {
     "iopub.execute_input": "2020-07-06T20:45:00.449Z",
     "iopub.status.busy": "2020-07-06T20:45:00.431Z",
     "iopub.status.idle": "2020-07-06T20:45:00.485Z",
     "shell.execute_reply": "2020-07-06T20:45:00.502Z"
    },
    "jupyter": {
     "outputs_hidden": false,
     "source_hidden": false
    },
    "nteract": {
     "transient": {
      "deleting": false
     }
    }
   },
   "outputs": [
    {
     "data": {
      "text/plain": [
       "date\n",
       "1      1.889041\n",
       "2      1.841096\n",
       "3      3.323288\n",
       "4      5.235616\n",
       "5      8.369863\n",
       "6     11.382192\n",
       "7     13.477778\n",
       "8     13.223611\n",
       "9     11.076389\n",
       "10     8.154167\n",
       "11     4.522222\n",
       "12     2.645833\n",
       "Name: tmin, dtype: float64"
      ]
     },
     "execution_count": 72,
     "metadata": {},
     "output_type": "execute_result"
    }
   ],
   "source": [
    "dataset.groupby([dataset.index.month],sort=False).tmin.mean()"
   ]
  },
  {
   "cell_type": "code",
   "execution_count": null,
   "metadata": {
    "collapsed": true,
    "jupyter": {
     "outputs_hidden": false,
     "source_hidden": false
    },
    "nteract": {
     "transient": {
      "deleting": false
     }
    }
   },
   "outputs": [],
   "source": []
  }
 ],
 "metadata": {
  "celltoolbar": "Slideshow",
  "colab": {
   "name": "dicerolling.ipynb",
   "provenance": []
  },
  "kernelspec": {
   "display_name": "Python 3",
   "language": "python",
   "name": "python3"
  },
  "language_info": {
   "codemirror_mode": {
    "name": "ipython",
    "version": 3
   },
   "file_extension": ".py",
   "mimetype": "text/x-python",
   "name": "python",
   "nbconvert_exporter": "python",
   "pygments_lexer": "ipython3",
   "version": "3.6.10"
  },
  "nteract": {
   "version": "0.24.0"
  },
  "rise": {
   "backimage": "2020csta.png",
   "theme": "simple"
  }
 },
 "nbformat": 4,
 "nbformat_minor": 2
}
